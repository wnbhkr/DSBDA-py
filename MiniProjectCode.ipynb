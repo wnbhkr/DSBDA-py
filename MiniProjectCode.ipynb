{
 "cells": [
  {
   "cell_type": "markdown",
   "id": "e778091f",
   "metadata": {},
   "source": [
    "# DSBDA Mini Project: \n",
    "Use the following covid_vaccine_statewise.csv dataset and perform following\n",
    "analytics on the given dataset https://www.kaggle.com/sudalairajkumar/covid19-inindia?select=covid_vaccine_statewise.csv\n",
    "a. Describe the dataset\n",
    "b. Number of persons state wise vaccinated for first dose in India\n",
    "c. Number of persons state wise vaccinated for second dose in India\n",
    "d. Number of Males vaccinated\n",
    "e. Number of females vaccinated"
   ]
  },
  {
   "cell_type": "markdown",
   "id": "8eae3a2e",
   "metadata": {},
   "source": [
    "## Name: Shivam Dattatray Shinde; Roll Number: C34444; Division: 4"
   ]
  },
  {
   "cell_type": "markdown",
   "id": "6e1ea5bf",
   "metadata": {},
   "source": [
    "## Name: Vedant Santosh Pawar;      Roll Number: C34446; Division: 4"
   ]
  },
  {
   "cell_type": "markdown",
   "id": "2d9d1d50",
   "metadata": {},
   "source": [
    "## Name: Dev Ramu Ghop;                Roll Number: C34449 ; Division: 4"
   ]
  },
  {
   "cell_type": "code",
   "execution_count": null,
   "id": "a6862137",
   "metadata": {
    "scrolled": true
   },
   "outputs": [],
   "source": [
    "# Importing necessary libraries\n",
    "import pandas as pd"
   ]
  },
  {
   "cell_type": "code",
   "execution_count": null,
   "id": "98ffdc3e",
   "metadata": {
    "scrolled": true
   },
   "outputs": [],
   "source": [
    "import matplotlib.pyplot as plt"
   ]
  },
  {
   "cell_type": "code",
   "execution_count": null,
   "id": "e3aef292",
   "metadata": {
    "scrolled": true
   },
   "outputs": [],
   "source": [
    "# Loading the dataset\n",
    "df = pd.read_csv('covid_vaccine_statewise.csv')"
   ]
  },
  {
   "cell_type": "code",
   "execution_count": null,
   "id": "b61ccca9",
   "metadata": {},
   "outputs": [],
   "source": [
    "# a. Describe the dataset\n",
    "print(df.head())\n",
    "print(df.info())\n",
    "print(df.describe())"
   ]
  },
  {
   "cell_type": "code",
   "execution_count": null,
   "id": "bfee5153",
   "metadata": {
    "scrolled": true
   },
   "outputs": [],
   "source": [
    "# b. Number of persons state wise vaccinated for first dose in India\n",
    "first_dose_df = df[['State', 'Total Individuals Vaccinated', 'First Dose Administered']]\n",
    "first_dose_df = first_dose_df.groupby('State').sum().sort_values(by='First Dose Administered', ascending=False)\n",
    "print(first_dose_df)"
   ]
  },
  {
   "cell_type": "code",
   "execution_count": null,
   "id": "b8740e0c",
   "metadata": {
    "scrolled": true
   },
   "outputs": [],
   "source": [
    "# c. Number of persons state wise vaccinated for second dose in India\n",
    "second_dose_df = df[['State', 'Total Individuals Vaccinated', 'Second Dose Administered']]\n",
    "second_dose_df = second_dose_df.groupby('State').sum().sort_values(by='Second Dose Administered', ascending=False)\n",
    "print(second_dose_df)"
   ]
  },
  {
   "cell_type": "code",
   "execution_count": null,
   "id": "96629b3b",
   "metadata": {
    "scrolled": true
   },
   "outputs": [],
   "source": [
    "# d. Number of Males vaccinated\n",
    "males_df = df[['State', 'Male(Individuals Vaccinated)', 'Total Individuals Vaccinated']]\n",
    "males_df = males_df.groupby('State').sum().sort_values(by='Male(Individuals Vaccinated)', ascending=False)\n",
    "print(males_df)"
   ]
  },
  {
   "cell_type": "code",
   "execution_count": null,
   "id": "708a355f",
   "metadata": {
    "scrolled": true
   },
   "outputs": [],
   "source": [
    "# e. Number of females vaccinated\n",
    "females_df = df[['State', 'Female(Individuals Vaccinated)', 'Total Individuals Vaccinated']]\n",
    "females_df = females_df.groupby('State').sum().sort_values(by='Female(Individuals Vaccinated)', ascending=False)\n",
    "print(females_df)"
   ]
  },
  {
   "cell_type": "code",
   "execution_count": null,
   "id": "2d1edebc",
   "metadata": {},
   "outputs": [],
   "source": [
    "# GRAPHS AND VIUALIZED RESULT"
   ]
  },
  {
   "cell_type": "code",
   "execution_count": null,
   "id": "8de35db8",
   "metadata": {
    "scrolled": true
   },
   "outputs": [],
   "source": [
    "# a. Describe the dataset\n",
    "print(df.head())\n",
    "print(df.info())\n",
    "print(df.describe())"
   ]
  },
  {
   "cell_type": "code",
   "execution_count": null,
   "id": "811ff432",
   "metadata": {
    "scrolled": false
   },
   "outputs": [],
   "source": [
    "# b. Number of persons state wise vaccinated for first dose in India\n",
    "first_dose = df[['State', 'First Dose Administered']].sort_values('First Dose Administered', ascending=False)\n",
    "plt.figure(figsize=(15, 8))\n",
    "plt.bar(first_dose['State'], first_dose['First Dose Administered'])\n",
    "plt.xticks(rotation=90)\n",
    "plt.xlabel('State')\n",
    "plt.ylabel('Number of persons vaccinated for first dose')\n",
    "plt.title('Number of persons state wise vaccinated for first dose in India')\n",
    "plt.show()"
   ]
  },
  {
   "cell_type": "code",
   "execution_count": null,
   "id": "2f741f8f",
   "metadata": {
    "scrolled": false
   },
   "outputs": [],
   "source": [
    "# c. Number of persons state wise vaccinated for second dose in India\n",
    "second_dose = df[['State', 'Second Dose Administered']].sort_values('Second Dose Administered', ascending=False)\n",
    "plt.figure(figsize=(15, 8))\n",
    "plt.bar(second_dose['State'], second_dose['Second Dose Administered'])\n",
    "plt.xticks(rotation=90)\n",
    "plt.xlabel('State')\n",
    "plt.ylabel('Number of persons vaccinated for second dose')\n",
    "plt.title('Number of persons state wise vaccinated for second dose in India')\n",
    "plt.show()"
   ]
  },
  {
   "cell_type": "code",
   "execution_count": null,
   "id": "752e6fe5",
   "metadata": {
    "scrolled": true
   },
   "outputs": [],
   "source": [
    "# d. Number of Males vaccinated\n",
    "male = df['Male(Individuals Vaccinated)'].sum()\n",
    "print(\"Number of Males vaccinated:\", male)"
   ]
  },
  {
   "cell_type": "code",
   "execution_count": null,
   "id": "586fcb1a",
   "metadata": {
    "scrolled": true
   },
   "outputs": [],
   "source": [
    "# e. Number of females vaccinated\n",
    "female = df['Female(Individuals Vaccinated)'].sum()\n",
    "print(\"Number of Females vaccinated:\", female)"
   ]
  }
 ],
 "metadata": {
  "kernelspec": {
   "display_name": "Python 3 (ipykernel)",
   "language": "python",
   "name": "python3"
  },
  "language_info": {
   "codemirror_mode": {
    "name": "ipython",
    "version": 3
   },
   "file_extension": ".py",
   "mimetype": "text/x-python",
   "name": "python",
   "nbconvert_exporter": "python",
   "pygments_lexer": "ipython3",
   "version": "3.9.7"
  }
 },
 "nbformat": 4,
 "nbformat_minor": 5
}
